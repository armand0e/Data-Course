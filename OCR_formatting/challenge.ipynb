{
 "cells": [
  {
   "cell_type": "markdown",
   "metadata": {},
   "source": [
    "## Using Python to Cleanse and Rationalize Data Challenge\n",
    "\n",
    "Your department will be receiving data obtained from scanned documents which have been processed through some OCR (Optical Character Recognition) software. The software clearly has some issues – the capitalisation and spacing in the resulting text is inconsistent. Occasionally, it puts semi-colons between sentences where their use is not appropriate. You must write a piece of code which corrects the format of this text, according to the following rules:\n",
    "> * Sentences must start with a capital letter.\n",
    "> * Sentences must be separated by two spaces.\n",
    "> * Commas must be followed by a single space.\n",
    "> * Semi-colons must be replaced with full stops.\n",
    "> * Duplicate punctuation must be removed.\n",
    "\n",
    "The code you produce will eventually form part of a data cleaning library, so you should make proper use of functions to carry out the above processes. For testing purposes, a text sample is hard-coded in your application in the data variable. Any programmatical solution in Python may be utilised.\n",
    "\n",
    "*Hint: You will need to write a lookup list into your code so that you can check for proper names and ensure that they are capitalised appropriately.*"
   ]
  },
  {
   "cell_type": "code",
   "execution_count": null,
   "metadata": {},
   "outputs": [],
   "source": [
    "import string\n",
    "data = 'Jack and jill were walking up the hill on the way to the Supermarket to get some mineral water when Jack tripped over a pothole in the road.He fell down and broke his smartphone.    \"Oh dear!\" said jack;actually,he didn’t say \"Oh dear\",he used some words that Jill was sure his mother wouldn’t approve of and went on to make some descriptive comments on what he thought of the state of the roads leading up the hill.jill was so shocked that she didn’t look where she was going and fell down,too, tumbling all the way down the hill;  jack got up and went home to mend his phone.    jill suggested using her granny’s remedy of vinegar and brown paper to fix the phone; Jack replied with a comment that got him grounded for a week during which time he repaired his phone with duct tape and superglue but it was never the same again .'\n",
    "# ====================================\n",
    "# Do not change the code before this"
   ]
  },
  {
   "cell_type": "code",
   "execution_count": null,
   "metadata": {},
   "outputs": [],
   "source": [
    "## Add your functions here\n",
    "def replace_names(data, names):\n",
    "    # find each lowercase name in our data, replace with a correctly capitalized name from our name dicitionary\n",
    "    for i in names:\n",
    "        data = data.replace(i, names[i])\n",
    "    return data\n",
    "\n",
    "def fix_punctuation(data):\n",
    "    # replace all semicolons with periods\n",
    "    quotation_num = 0\n",
    "    data = data.replace(';', '.')\n",
    "    # for each character in data \n",
    "    for i in range(len(data)):\n",
    "        # if the character is punctuation\n",
    "        if data[i] in string.punctuation:\n",
    "            if data[i] == '\"':\n",
    "                quotation_num += 1\n",
    "            # make sure the next character exists\n",
    "            if i + 1 < len(data):\n",
    "                # if the next character is not punctuation, whitespace\n",
    "                if data[i+1] not in string.punctuation + string.whitespace:\n",
    "                    # if the character isn't the starting quotation mark dont add a space after it\n",
    "                    if data[i] == '\"' and quotation_num % 2 != 0:\n",
    "                        continue\n",
    "                    # add a space after the punctuation\n",
    "                    data = data[:i+1] + ' ' + data[i+1:]\n",
    "                    \n",
    "                # make sure there isn't any duplicate punctuation\n",
    "                if data[i] == data[i+1]:\n",
    "                    data = data[:i] + data[i+2:]\n",
    "    return data\n",
    "\n",
    "def fix_sentences(data):\n",
    "    sentences = data.split('.')\n",
    "    # for each sentence in the list of sentences\n",
    "    for i in range(len(sentences)):\n",
    "        sentence = sentences[i]\n",
    "        # if the sentence is empty, or only 1 character, skip it\n",
    "        if len(sentence) <= 1:\n",
    "            continue\n",
    "        # fix the spacing of each sentence\n",
    "        sentence = sentence.strip()\n",
    "        # replace the first character of the sentence with an uppercase version\n",
    "        new_sentence = sentence[0].upper() + sentence[1:]\n",
    "        sentence = new_sentence\n",
    "        sentences[i] = sentence\n",
    "    # concatenate the list of sentences into a single string with \".  \" between each sentence\n",
    "    return '.  '.join(sentences)\n"
   ]
  },
  {
   "cell_type": "code",
   "execution_count": null,
   "metadata": {},
   "outputs": [
    {
     "name": "stdout",
     "output_type": "stream",
     "text": [
      "Jack and Jill were walking up the hill on the way to the Supermarket to get some mineral water when Jack tripped over a pothole in the road.  He fell down and broke his smartphone.  \"Oh dear!\" said Jack.  Actually, he didn’t say \"Oh dear\", he used some words that Jill was sure his mother wouldn’t approve of and went on to make some descriptive comments on what he thought of the state of the roads leading up the hill.  Jill was so shocked that she didn’t look where she was going and fell down, too, tumbling all the way down the hill.  Jack got up and went home to mend his phone.  Jill suggested using her granny’s remedy of vinegar and brown paper to fix the phone.  Jack replied with a comment that got him grounded for a week during which time he repaired his phone with duct tape and superglue but it was never the same again.  \n"
     ]
    }
   ],
   "source": [
    "# ====================================\n",
    "# Do not change the code after this\n",
    "\n",
    "def ocr_format(text):\n",
    "    '''\n",
    "    Return a string containing the text formatted as follows:\n",
    "    - Sentences must start with a capital letter.\n",
    "    - Sentences must be separated by two spaces.\n",
    "    - Commas must be followed by a single space.\n",
    "    - Semi-colons must be replaced with full stops.\n",
    "    - Duplicate punctuation must be removed.\n",
    "\n",
    "    Hint: You will need to write a lookup list into your code \n",
    "          so that you can check for proper names and ensure that \n",
    "          they are capitalised appropriately.\n",
    "\n",
    "    Arguments\n",
    "    text: a string of text received from the OCR\n",
    "\n",
    "    Examples \n",
    "    ocr_format(data) returns the following formatted string\n",
    "    'Jack and Jill were walking up the hill on the way to the Supermarket to get some mineral water when Jack tripped over a pothole in the road.  He fell down and broke his smartphone.  \"Oh dear!\" said Jack.  Actually, he didn’t say \"Oh dear\", he used some words that Jill was sure his mother wouldn’t approve of and went on to make some descriptive comments on what he thought of the state of the roads leading up the hill.  Jill was so shocked that she didn’t look where she was going and fell down, too, tumbling all the way down the hill.  Jack got up and went home to mend his phone.  Jill suggested using her granny’s remedy of vinegar and brown paper to fix the phone.  Jack replied with a comment that got him grounded for a week during which time he repaired his phone with duct tape and superglue but it was never the same again.  '\n",
    "    '''\n",
    "    # ====================================\n",
    "    # Do not change the code before this\n",
    "    \n",
    "    names = { 'jack' : 'Jack',  'jill' : 'Jill'}\n",
    "    text = fix_punctuation(text)\n",
    "    text = replace_names(text, names)\n",
    "    text = fix_sentences(text)\n",
    "    return text\n",
    "    \n",
    "def main():\n",
    "    print(ocr_format(data))\n",
    "\n",
    "if __name__ == '__main__':\n",
    "    main()"
   ]
  }
 ],
 "metadata": {
  "kernelspec": {
   "display_name": "Python 3",
   "language": "python",
   "name": "python3"
  },
  "language_info": {
   "codemirror_mode": {
    "name": "ipython",
    "version": 3
   },
   "file_extension": ".py",
   "mimetype": "text/x-python",
   "name": "python",
   "nbconvert_exporter": "python",
   "pygments_lexer": "ipython3",
   "version": "3.12.5"
  }
 },
 "nbformat": 4,
 "nbformat_minor": 2
}
